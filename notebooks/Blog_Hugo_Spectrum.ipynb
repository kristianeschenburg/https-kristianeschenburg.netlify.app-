{
 "cells": [
  {
   "cell_type": "code",
   "execution_count": 88,
   "metadata": {},
   "outputs": [],
   "source": [
    "from niio import loaded\n",
    "from fragmenter import RegionExtractor as re\n",
    "\n",
    "import numpy as np\n",
    "import pandas as pd\n",
    "import matplotlib.pyplot as plt\n",
    "import statsmodels.api as sm"
   ]
  },
  {
   "cell_type": "code",
   "execution_count": 81,
   "metadata": {},
   "outputs": [],
   "source": [
    "data_dir = '/Users/kristianeschenburg/Desktop/Data/'"
   ]
  },
  {
   "cell_type": "code",
   "execution_count": 126,
   "metadata": {},
   "outputs": [],
   "source": [
    "# load surface file\n",
    "surface_file = '%sSurfaces/285345.L.inflated.32k_fs_LR.surf.gii' % (data_dir)\n",
    "[verts, faces] = loaded.loadSurf(surface_file)\n",
    "\n",
    "# load cortical map and extract indices of precentral and postcentral gyri\n",
    "label_file = '%sLabels/Desikan/285345.L.aparc.32k_fs_LR.label.gii' % (data_dir)\n",
    "R = re.Extractor(label_file)\n",
    "index_map = R.map_regions()\n",
    "\n",
    "regions = list(index_map.keys())\n",
    "regions.sort()\n",
    "\n",
    "inds = R.indices(index_map, regions=['inferiorparietal'])"
   ]
  },
  {
   "cell_type": "code",
   "execution_count": 127,
   "metadata": {},
   "outputs": [],
   "source": [
    "conn_file = '%sConnectopy/Desikan/285345/285345.L.inferiorparietal.2.brain.Evecs.func.gii' % (data_dir)\n",
    "conn = loaded.load(conn_file)\n",
    "reg_file = '%sCorticalRegionalization/Desikan/RestingState/285345.L.Regionalized.RestingState.aparc.Full.mat' % (data_dir)\n",
    "reg = loaded.load(reg_file)"
   ]
  },
  {
   "cell_type": "code",
   "execution_count": 129,
   "metadata": {},
   "outputs": [],
   "source": [
    "conn = conn[inds, 1]\n",
    "\n",
    "temp_reg = reg[inds, :]\n",
    "temp_reg = sm.add_constant(temp_reg, prepend=True)\n",
    "\n",
    "data = pd.DataFrame(temp_reg)\n",
    "data.columns = ['intercept'] + regions\n",
    "d1 = data.drop(['corpuscallosum'], axis=1)"
   ]
  },
  {
   "cell_type": "code",
   "execution_count": 132,
   "metadata": {},
   "outputs": [],
   "source": [
    "M = sm.OLS(endog=conn, exog=data, hasconst=True).fit()"
   ]
  },
  {
   "cell_type": "code",
   "execution_count": 133,
   "metadata": {},
   "outputs": [
    {
     "data": {
      "text/plain": [
       "0.5358917091533294"
      ]
     },
     "execution_count": 133,
     "metadata": {},
     "output_type": "execute_result"
    }
   ],
   "source": [
    "M.rsquared"
   ]
  },
  {
   "cell_type": "code",
   "execution_count": 142,
   "metadata": {},
   "outputs": [
    {
     "data": {
      "text/plain": [
       "60.51826852034556"
      ]
     },
     "execution_count": 142,
     "metadata": {},
     "output_type": "execute_result"
    }
   ],
   "source": [
    "M.fvalue"
   ]
  },
  {
   "cell_type": "code",
   "execution_count": 143,
   "metadata": {},
   "outputs": [
    {
     "data": {
      "text/plain": [
       "3.7424259429978023e-268"
      ]
     },
     "execution_count": 143,
     "metadata": {},
     "output_type": "execute_result"
    }
   ],
   "source": [
    "M.f_pvalue"
   ]
  },
  {
   "cell_type": "code",
   "execution_count": null,
   "metadata": {},
   "outputs": [],
   "source": []
  }
 ],
 "metadata": {
  "kernelspec": {
   "display_name": "",
   "name": ""
  },
  "language_info": {
   "codemirror_mode": {
    "name": "ipython",
    "version": 3
   },
   "file_extension": ".py",
   "mimetype": "text/x-python",
   "name": "python",
   "nbconvert_exporter": "python",
   "pygments_lexer": "ipython3",
   "version": "3.7.2"
  }
 },
 "nbformat": 4,
 "nbformat_minor": 4
}
